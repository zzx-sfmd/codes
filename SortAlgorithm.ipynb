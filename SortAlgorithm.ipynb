{
 "cells": [
  {
   "cell_type": "markdown",
   "metadata": {},
   "source": [
    "# 排序算法"
   ]
  },
  {
   "cell_type": "code",
   "execution_count": 18,
   "metadata": {},
   "outputs": [],
   "source": [
    "def BubbleSort(p):\n",
    "    n = len(p)\n",
    "    for i in range(n-1,-1,-1):\n",
    "        flag = 1\n",
    "        for j in range(i):\n",
    "            if p[j]>p[j+1]:\n",
    "                p[j], p[j+1] = p[j+1], p[j]\n",
    "                flag = 0\n",
    "        if flag == 1:\n",
    "            break"
   ]
  },
  {
   "cell_type": "markdown",
   "metadata": {},
   "source": [
    "排序方法 | 时间复杂度（平均） | 时间复杂度（最坏） | 时间复杂度（最好） | 空间复杂度 | 稳定性\n",
    "- | - | - | - | - | -\n",
    "冒泡排序 | O($n^2$) | O($n^2$) | O($n$) | O($1$) | 稳定"
   ]
  },
  {
   "cell_type": "code",
   "execution_count": 16,
   "metadata": {},
   "outputs": [],
   "source": [
    "def SelectSort(p):\n",
    "    n = len(p)\n",
    "    for i in range(n):\n",
    "        index = i\n",
    "        for j in range(i+1, n):\n",
    "            if p[j] < p[index]:\n",
    "                index = j\n",
    "                flag = 0\n",
    "        p[i], p[index] = p[index], p[i]"
   ]
  },
  {
   "cell_type": "markdown",
   "metadata": {},
   "source": [
    "排序方法 | 时间复杂度（平均） | 时间复杂度（最坏） | 时间复杂度（最好） | 空间复杂度 | 稳定性\n",
    "- | - | - | - | - | -\n",
    "选择排序 | O($n^2$) | O($n^2$) | O($n^2$) | O($1$) | 不稳定"
   ]
  },
  {
   "cell_type": "code",
   "execution_count": 23,
   "metadata": {},
   "outputs": [],
   "source": [
    "def InsertSort(p):\n",
    "    n = len(p)\n",
    "    for i in range(1, n):\n",
    "        key = p[i]\n",
    "        j = i-1\n",
    "        while p[j]>key and j>=0:\n",
    "            p[j+1] = p[j]\n",
    "            j -= 1\n",
    "        p[j+1] = key"
   ]
  },
  {
   "cell_type": "markdown",
   "metadata": {},
   "source": [
    "排序方法 | 时间复杂度（平均） | 时间复杂度（最坏） | 时间复杂度（最好） | 空间复杂度 | 稳定性\n",
    "- | - | - | - | - | -\n",
    "插入排序 | O($n^2$) | O($n^2$) | O($n$) | O($1$) | 不稳定"
   ]
  },
  {
   "cell_type": "code",
   "execution_count": 29,
   "metadata": {},
   "outputs": [
    {
     "name": "stdout",
     "output_type": "stream",
     "text": [
      "[0, 7, 15, 19, 23, 27, 30, 31, 39, 43, 45, 47, 50, 74, 79, 86, 88, 90, 94, 95]\n"
     ]
    }
   ],
   "source": [
    "import random\n",
    "\n",
    "length = 20\n",
    "p = []\n",
    "for i in range(length):\n",
    "    p.append(random.randint(0, 100))\n",
    "InsertSort(p)\n",
    "print(p)"
   ]
  },
  {
   "cell_type": "code",
   "execution_count": null,
   "metadata": {},
   "outputs": [],
   "source": []
  },
  {
   "cell_type": "code",
   "execution_count": null,
   "metadata": {},
   "outputs": [],
   "source": []
  }
 ],
 "metadata": {
  "kernelspec": {
   "display_name": "py3.7",
   "language": "python",
   "name": "py3.7"
  },
  "language_info": {
   "codemirror_mode": {
    "name": "ipython",
    "version": 3
   },
   "file_extension": ".py",
   "mimetype": "text/x-python",
   "name": "python",
   "nbconvert_exporter": "python",
   "pygments_lexer": "ipython3",
   "version": "3.7.9"
  }
 },
 "nbformat": 4,
 "nbformat_minor": 4
}
